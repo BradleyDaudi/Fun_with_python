{
 "cells": [
  {
   "cell_type": "markdown",
   "id": "3c076ef3",
   "metadata": {},
   "source": [
    "# Download youtube videos using python"
   ]
  },
  {
   "cell_type": "code",
   "execution_count": 8,
   "id": "20766fc0",
   "metadata": {},
   "outputs": [
    {
     "name": "stdout",
     "output_type": "stream",
     "text": [
      "Collecting youtube-dl\n",
      "  Downloading youtube_dl-2021.12.17-py2.py3-none-any.whl (1.9 MB)\n",
      "     ---------------------------------------- 1.9/1.9 MB 3.6 MB/s eta 0:00:00\n",
      "Installing collected packages: youtube-dl\n",
      "Successfully installed youtube-dl-2021.12.17\n",
      "Note: you may need to restart the kernel to use updated packages.\n"
     ]
    }
   ],
   "source": [
    "pip install youtube-dl"
   ]
  },
  {
   "cell_type": "code",
   "execution_count": 11,
   "id": "2756c09f",
   "metadata": {},
   "outputs": [],
   "source": [
    "import yt_dlp\n",
    "import youtube_dl"
   ]
  },
  {
   "cell_type": "code",
   "execution_count": null,
   "id": "a5e59475",
   "metadata": {},
   "outputs": [],
   "source": [
    "#enter the url of the youtube video you want to download\n",
    "url = input(\"https://www.youtube.com/watch?v=vs4WeMRZx5I\")\n",
    "\n",
    "youtube_dl_opts = {}\n",
    "\n",
    "with youtube_dl.YoutubeDL(youtube_dl_opts) as ydl:\n",
    "    youtube_dl.download([url])\n",
    "    print(\"video downloaded successfully\")"
   ]
  },
  {
   "cell_type": "code",
   "execution_count": null,
   "id": "2e12c49b",
   "metadata": {},
   "outputs": [],
   "source": []
  }
 ],
 "metadata": {
  "kernelspec": {
   "display_name": "Python 3 (ipykernel)",
   "language": "python",
   "name": "python3"
  },
  "language_info": {
   "codemirror_mode": {
    "name": "ipython",
    "version": 3
   },
   "file_extension": ".py",
   "mimetype": "text/x-python",
   "name": "python",
   "nbconvert_exporter": "python",
   "pygments_lexer": "ipython3",
   "version": "3.9.13"
  }
 },
 "nbformat": 4,
 "nbformat_minor": 5
}
