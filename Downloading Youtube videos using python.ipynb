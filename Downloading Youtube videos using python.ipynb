{
 "cells": [
  {
   "cell_type": "markdown",
   "id": "3c076ef3",
   "metadata": {},
   "source": [
    "# Download youtube videos using python"
   ]
  },
  {
   "cell_type": "code",
   "execution_count": 1,
   "id": "20766fc0",
   "metadata": {},
   "outputs": [
    {
     "name": "stdout",
     "output_type": "stream",
     "text": [
      "Collecting yt-dlp\n",
      "  Obtaining dependency information for yt-dlp from https://files.pythonhosted.org/packages/3f/b0/75194851f0b86dd6c207d8e1cb5625b62ae5ec254edda42bc2cb86306ba7/yt_dlp-2023.10.13-py2.py3-none-any.whl.metadata\n",
      "  Downloading yt_dlp-2023.10.13-py2.py3-none-any.whl.metadata (158 kB)\n",
      "     ---------------------------------------- 0.0/158.6 kB ? eta -:--:--\n",
      "     ------- ------------------------------- 30.7/158.6 kB 1.3 MB/s eta 0:00:01\n",
      "     ---------------------- ---------------- 92.2/158.6 kB 1.1 MB/s eta 0:00:01\n",
      "     -------------------------------------- 158.6/158.6 kB 1.2 MB/s eta 0:00:00\n",
      "Collecting mutagen (from yt-dlp)\n",
      "  Obtaining dependency information for mutagen from https://files.pythonhosted.org/packages/b0/7a/620f945b96be1f6ee357d211d5bf74ab1b7fe72a9f1525aafbfe3aee6875/mutagen-1.47.0-py3-none-any.whl.metadata\n",
      "  Downloading mutagen-1.47.0-py3-none-any.whl.metadata (1.7 kB)\n",
      "Requirement already satisfied: pycryptodomex in c:\\users\\user\\appdata\\local\\programs\\python\\python311\\lib\\site-packages (from yt-dlp) (3.19.0)\n",
      "Collecting websockets (from yt-dlp)\n",
      "  Downloading websockets-11.0.3-cp311-cp311-win_amd64.whl (124 kB)\n",
      "     ---------------------------------------- 0.0/124.7 kB ? eta -:--:--\n",
      "     -------------------------------------- 124.7/124.7 kB 3.7 MB/s eta 0:00:00\n",
      "Requirement already satisfied: certifi in c:\\users\\user\\appdata\\local\\programs\\python\\python311\\lib\\site-packages (from yt-dlp) (2023.7.22)\n",
      "Collecting brotli (from yt-dlp)\n",
      "  Obtaining dependency information for brotli from https://files.pythonhosted.org/packages/02/8a/fece0ee1057643cb2a5bbf59682de13f1725f8482b2c057d4e799d7ade75/Brotli-1.1.0-cp311-cp311-win_amd64.whl.metadata\n",
      "  Downloading Brotli-1.1.0-cp311-cp311-win_amd64.whl.metadata (5.6 kB)\n",
      "Downloading yt_dlp-2023.10.13-py2.py3-none-any.whl (3.1 MB)\n",
      "   ---------------------------------------- 0.0/3.1 MB ? eta -:--:--\n",
      "   - -------------------------------------- 0.1/3.1 MB 7.5 MB/s eta 0:00:01\n",
      "   ---- ----------------------------------- 0.4/3.1 MB 3.9 MB/s eta 0:00:01\n",
      "   ------ --------------------------------- 0.5/3.1 MB 3.7 MB/s eta 0:00:01\n",
      "   ------------ --------------------------- 1.0/3.1 MB 5.1 MB/s eta 0:00:01\n",
      "   ------------------- -------------------- 1.5/3.1 MB 6.5 MB/s eta 0:00:01\n",
      "   --------------------------- ------------ 2.1/3.1 MB 7.9 MB/s eta 0:00:01\n",
      "   --------------------------- ------------ 2.1/3.1 MB 7.9 MB/s eta 0:00:01\n",
      "   --------------------------- ------------ 2.1/3.1 MB 6.2 MB/s eta 0:00:01\n",
      "   ---------------------------- ----------- 2.2/3.1 MB 5.7 MB/s eta 0:00:01\n",
      "   ----------------------------- ---------- 2.2/3.1 MB 4.9 MB/s eta 0:00:01\n",
      "   ----------------------------- ---------- 2.3/3.1 MB 4.6 MB/s eta 0:00:01\n",
      "   ----------------------------- ---------- 2.3/3.1 MB 4.6 MB/s eta 0:00:01\n",
      "   ------------------------------ --------- 2.3/3.1 MB 3.9 MB/s eta 0:00:01\n",
      "   ------------------------------- -------- 2.4/3.1 MB 3.8 MB/s eta 0:00:01\n",
      "   ------------------------------- -------- 2.4/3.1 MB 3.8 MB/s eta 0:00:01\n",
      "   --------------------------------- ------ 2.6/3.1 MB 3.4 MB/s eta 0:00:01\n",
      "   --------------------------------- ------ 2.6/3.1 MB 3.3 MB/s eta 0:00:01\n",
      "   ----------------------------------- ---- 2.7/3.1 MB 3.3 MB/s eta 0:00:01\n",
      "   ----------------------------------- ---- 2.7/3.1 MB 3.3 MB/s eta 0:00:01\n",
      "   ------------------------------------- -- 2.9/3.1 MB 3.1 MB/s eta 0:00:01\n",
      "   ------------------------------------- -- 2.9/3.1 MB 3.0 MB/s eta 0:00:01\n",
      "   ---------------------------------------  3.0/3.1 MB 3.0 MB/s eta 0:00:01\n",
      "   ---------------------------------------  3.0/3.1 MB 2.8 MB/s eta 0:00:01\n",
      "   ---------------------------------------  3.1/3.1 MB 2.8 MB/s eta 0:00:01\n",
      "   ---------------------------------------- 3.1/3.1 MB 2.7 MB/s eta 0:00:00\n",
      "Downloading Brotli-1.1.0-cp311-cp311-win_amd64.whl (357 kB)\n",
      "   ---------------------------------------- 0.0/357.3 kB ? eta -:--:--\n",
      "   ------------------------ -------------- 225.3/357.3 kB 13.4 MB/s eta 0:00:01\n",
      "   ------------------------ -------------- 225.3/357.3 kB 13.4 MB/s eta 0:00:01\n",
      "   ------------------------ -------------- 225.3/357.3 kB 13.4 MB/s eta 0:00:01\n",
      "   ------------------------ -------------- 225.3/357.3 kB 13.4 MB/s eta 0:00:01\n",
      "   ------------------------ -------------- 225.3/357.3 kB 13.4 MB/s eta 0:00:01\n",
      "   ------------------------ -------------- 225.3/357.3 kB 13.4 MB/s eta 0:00:01\n",
      "   ------------------------ -------------- 225.3/357.3 kB 13.4 MB/s eta 0:00:01\n",
      "   -------------------------- ----------- 245.8/357.3 kB 718.0 kB/s eta 0:00:01\n",
      "   ---------------------------- --------- 266.2/357.3 kB 630.5 kB/s eta 0:00:01\n",
      "   ------------------------------- ------ 297.0/357.3 kB 611.3 kB/s eta 0:00:01\n",
      "   ------------------------------- ------ 297.0/357.3 kB 611.3 kB/s eta 0:00:01\n",
      "   -------------------------------------  348.2/357.3 kB 636.4 kB/s eta 0:00:01\n",
      "   -------------------------------------- 357.3/357.3 kB 616.4 kB/s eta 0:00:00\n",
      "Using cached mutagen-1.47.0-py3-none-any.whl (194 kB)\n",
      "Installing collected packages: brotli, websockets, mutagen, yt-dlp\n",
      "Successfully installed brotli-1.1.0 mutagen-1.47.0 websockets-11.0.3 yt-dlp-2023.10.13\n",
      "Note: you may need to restart the kernel to use updated packages.\n"
     ]
    }
   ],
   "source": [
    "pip install yt-dlp"
   ]
  },
  {
   "cell_type": "code",
   "execution_count": 4,
   "id": "a5e59475",
   "metadata": {},
   "outputs": [
    {
     "name": "stdout",
     "output_type": "stream",
     "text": [
      "[youtube] Extracting URL: https://youtu.be/b1kbLwvqugk\n",
      "[youtube] b1kbLwvqugk: Downloading webpage\n",
      "[youtube] b1kbLwvqugk: Downloading ios player API JSON\n",
      "[youtube] b1kbLwvqugk: Downloading android player API JSON\n",
      "[youtube] b1kbLwvqugk: Downloading m3u8 information\n",
      "[info] b1kbLwvqugk: Downloading 1 format(s): 22\n",
      "[download] Destination: Taylor Swift - Anti-Hero (Official Music Video) [b1kbLwvqugk].mp4\n",
      "[download] 100% of   18.35MiB in 00:00:17 at 1.04MiB/s   \n",
      "video downloaded successfully!\n"
     ]
    }
   ],
   "source": [
    "import yt_dlp\n",
    "#enter the url of the youtube video you want to download\n",
    "url = input(\"Enter video url:\")\n",
    "\n",
    "ydl_opts = {}\n",
    "\n",
    "with yt_dlp.YoutubeDL(ydl_opts) as ydl:\n",
    "    ydl.download([url])\n",
    "    print(\"video downloaded successfully!\")"
   ]
  },
  {
   "cell_type": "code",
   "execution_count": null,
   "id": "2e12c49b",
   "metadata": {},
   "outputs": [],
   "source": []
  }
 ],
 "metadata": {
  "kernelspec": {
   "display_name": "Python 3 (ipykernel)",
   "language": "python",
   "name": "python3"
  },
  "language_info": {
   "codemirror_mode": {
    "name": "ipython",
    "version": 3
   },
   "file_extension": ".py",
   "mimetype": "text/x-python",
   "name": "python",
   "nbconvert_exporter": "python",
   "pygments_lexer": "ipython3",
   "version": "3.11.1"
  }
 },
 "nbformat": 4,
 "nbformat_minor": 5
}
