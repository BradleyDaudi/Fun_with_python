{
 "cells": [
  {
   "cell_type": "markdown",
   "id": "3c076ef3",
   "metadata": {},
   "source": [
    "# Download youtube videos using python"
   ]
  },
  {
   "cell_type": "code",
   "execution_count": 2,
   "id": "20766fc0",
   "metadata": {},
   "outputs": [
    {
     "name": "stdout",
     "output_type": "stream",
     "text": [
      "Requirement already satisfied: yt-dlp in c:\\users\\user\\anaconda3\\lib\\site-packages (2023.10.7)\n",
      "Requirement already satisfied: pycryptodomex in c:\\users\\user\\anaconda3\\lib\\site-packages (from yt-dlp) (3.19.0)\n",
      "Requirement already satisfied: mutagen in c:\\users\\user\\anaconda3\\lib\\site-packages (from yt-dlp) (1.47.0)\n",
      "Requirement already satisfied: brotli in c:\\users\\user\\anaconda3\\lib\\site-packages (from yt-dlp) (1.1.0)\n",
      "Requirement already satisfied: websockets in c:\\users\\user\\anaconda3\\lib\\site-packages (from yt-dlp) (11.0.3)\n",
      "Requirement already satisfied: certifi in c:\\users\\user\\anaconda3\\lib\\site-packages (from yt-dlp) (2022.9.14)\n",
      "Note: you may need to restart the kernel to use updated packages.\n"
     ]
    }
   ],
   "source": [
    "pip install yt-dlp"
   ]
  },
  {
   "cell_type": "code",
   "execution_count": 1,
   "id": "2756c09f",
   "metadata": {},
   "outputs": [],
   "source": [
    "import yt_dlp"
   ]
  },
  {
   "cell_type": "code",
   "execution_count": null,
   "id": "a5e59475",
   "metadata": {},
   "outputs": [],
   "source": [
    "#enter the url of the youtube video you want to download\n",
    "url = input(\"https://www.youtube.com/watch?v=vs4WeMRZx5I\")\n",
    "\n",
    "ydl_opts = {}\n",
    "\n",
    "with yt_dlp.YoutubeDL(ydl_opts) as ydl:\n",
    "    ydl.download([url])\n",
    "    print(\"video downloaded successfully\")"
   ]
  },
  {
   "cell_type": "code",
   "execution_count": null,
   "id": "2e12c49b",
   "metadata": {},
   "outputs": [],
   "source": []
  }
 ],
 "metadata": {
  "kernelspec": {
   "display_name": "Python 3 (ipykernel)",
   "language": "python",
   "name": "python3"
  },
  "language_info": {
   "codemirror_mode": {
    "name": "ipython",
    "version": 3
   },
   "file_extension": ".py",
   "mimetype": "text/x-python",
   "name": "python",
   "nbconvert_exporter": "python",
   "pygments_lexer": "ipython3",
   "version": "3.9.13"
  }
 },
 "nbformat": 4,
 "nbformat_minor": 5
}
