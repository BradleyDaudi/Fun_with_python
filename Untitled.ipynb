{
 "cells": [
  {
   "cell_type": "markdown",
   "id": "addde65c",
   "metadata": {},
   "source": [
    "### remove image from background"
   ]
  },
  {
   "cell_type": "code",
   "execution_count": null,
   "id": "3810f0bf",
   "metadata": {},
   "outputs": [],
   "source": [
    "pip install rembg"
   ]
  },
  {
   "cell_type": "code",
   "execution_count": null,
   "id": "a1625e88",
   "metadata": {},
   "outputs": [],
   "source": [
    "from rembg import remove\n",
    "from PIL import Image\n",
    "input_path ='masai.jpg'\n",
    "output_path = 'masai.png'\n",
    "inp = Image.open(input_path)\n",
    "output = remove(inp)\n",
    "output.save(output_path)"
   ]
  }
 ],
 "metadata": {
  "kernelspec": {
   "display_name": "Python 3 (ipykernel)",
   "language": "python",
   "name": "python3"
  },
  "language_info": {
   "codemirror_mode": {
    "name": "ipython",
    "version": 3
   },
   "file_extension": ".py",
   "mimetype": "text/x-python",
   "name": "python",
   "nbconvert_exporter": "python",
   "pygments_lexer": "ipython3",
   "version": "3.11.5"
  }
 },
 "nbformat": 4,
 "nbformat_minor": 5
}
