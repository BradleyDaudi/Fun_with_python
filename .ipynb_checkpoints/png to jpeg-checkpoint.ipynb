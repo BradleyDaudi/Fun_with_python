{
 "cells": [
  {
   "cell_type": "markdown",
   "id": "a540aa78",
   "metadata": {},
   "source": [
    "png to jpg"
   ]
  },
  {
   "cell_type": "code",
   "execution_count": 2,
   "id": "287a4ba0",
   "metadata": {},
   "outputs": [],
   "source": [
    "from PIL import Image"
   ]
  },
  {
   "cell_type": "code",
   "execution_count": 4,
   "id": "0892b612",
   "metadata": {},
   "outputs": [],
   "source": [
    "#input Image in png format\n",
    "im = Image.open(\"datascience.png\")\n",
    "rgb_im = im.convert('RGB')\n",
    "#Output Image in jpeg format\n",
    "rgb_im.save('datascience.jpg')"
   ]
  },
  {
   "cell_type": "code",
   "execution_count": null,
   "id": "9b77a543",
   "metadata": {},
   "outputs": [],
   "source": []
  }
 ],
 "metadata": {
  "kernelspec": {
   "display_name": "Python 3 (ipykernel)",
   "language": "python",
   "name": "python3"
  },
  "language_info": {
   "codemirror_mode": {
    "name": "ipython",
    "version": 3
   },
   "file_extension": ".py",
   "mimetype": "text/x-python",
   "name": "python",
   "nbconvert_exporter": "python",
   "pygments_lexer": "ipython3",
   "version": "3.11.5"
  }
 },
 "nbformat": 4,
 "nbformat_minor": 5
}
