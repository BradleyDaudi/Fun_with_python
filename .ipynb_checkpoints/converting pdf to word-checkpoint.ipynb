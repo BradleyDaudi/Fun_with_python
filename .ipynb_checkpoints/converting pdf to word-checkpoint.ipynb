{
 "cells": [
  {
   "cell_type": "markdown",
   "id": "66910ab7",
   "metadata": {},
   "source": [
    "### converting  a pdf document to a word document"
   ]
  },
  {
   "cell_type": "code",
   "execution_count": 2,
   "id": "d73f904a",
   "metadata": {},
   "outputs": [
    {
     "name": "stdout",
     "output_type": "stream",
     "text": [
      "Collecting PyPDF2\n",
      "  Downloading pypdf2-3.0.1-py3-none-any.whl (232 kB)\n",
      "     ---------------------------------------- 0.0/232.6 kB ? eta -:--:--\n",
      "     - -------------------------------------- 10.2/232.6 kB ? eta -:--:--\n",
      "     - -------------------------------------- 10.2/232.6 kB ? eta -:--:--\n",
      "     ---- -------------------------------- 30.7/232.6 kB 187.9 kB/s eta 0:00:02\n",
      "     --------- --------------------------- 61.4/232.6 kB 297.7 kB/s eta 0:00:01\n",
      "     -------------- ---------------------- 92.2/232.6 kB 403.5 kB/s eta 0:00:01\n",
      "     -------------- ---------------------- 92.2/232.6 kB 403.5 kB/s eta 0:00:01\n",
      "     ------------------------------------ 232.6/232.6 kB 710.3 kB/s eta 0:00:00\n",
      "Installing collected packages: PyPDF2\n",
      "Successfully installed PyPDF2-3.0.1\n",
      "Note: you may need to restart the kernel to use updated packages.\n"
     ]
    }
   ],
   "source": [
    "pip install PyPDF2"
   ]
  },
  {
   "cell_type": "code",
   "execution_count": 11,
   "id": "abde523f",
   "metadata": {},
   "outputs": [],
   "source": [
    "# Assuming you have imported the necessary libraries such as PyPDF2\n",
    "\n",
    "import PyPDF2\n",
    "\n",
    "# Open the PDF file\n",
    "with open('pdf-test.pdf', 'rb') as pdf_file:\n",
    "    pdf_reader = PyPDF2.PdfReader(pdf_file)\n",
    "    num_pages = len(pdf_reader.pages)  # Getting the number of pages in the PDF\n",
    "\n",
    "    # Open a new Word file\n",
    "    with open('pdf-test.docx', 'w') as doc_file:\n",
    "        for page in range(num_pages):\n",
    "            text = pdf_reader.pages[page].extract_text()  # Extract text from the page\n",
    "            doc_file.write(text)\n"
   ]
  },
  {
   "cell_type": "markdown",
   "id": "91b86ef5",
   "metadata": {},
   "source": []
  }
 ],
 "metadata": {
  "kernelspec": {
   "display_name": "Python 3 (ipykernel)",
   "language": "python",
   "name": "python3"
  },
  "language_info": {
   "codemirror_mode": {
    "name": "ipython",
    "version": 3
   },
   "file_extension": ".py",
   "mimetype": "text/x-python",
   "name": "python",
   "nbconvert_exporter": "python",
   "pygments_lexer": "ipython3",
   "version": "3.11.5"
  }
 },
 "nbformat": 4,
 "nbformat_minor": 5
}
