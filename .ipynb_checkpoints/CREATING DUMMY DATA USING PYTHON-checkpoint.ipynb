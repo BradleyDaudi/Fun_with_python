{
 "cells": [
  {
   "cell_type": "markdown",
   "id": "e0ce1a78",
   "metadata": {},
   "source": [
    "#### create dummy data using python"
   ]
  },
  {
   "cell_type": "code",
   "execution_count": 1,
   "id": "5dbe3849",
   "metadata": {},
   "outputs": [
    {
     "name": "stdout",
     "output_type": "stream",
     "text": [
      "Collecting faker\n",
      "  Obtaining dependency information for faker from https://files.pythonhosted.org/packages/18/d6/314868f573b09d9f0590a2c2f7dd7463153d3dab1049f0ba5e7008776d91/Faker-19.13.0-py3-none-any.whl.metadata\n",
      "  Downloading Faker-19.13.0-py3-none-any.whl.metadata (15 kB)\n",
      "Requirement already satisfied: python-dateutil>=2.4 in c:\\users\\user\\appdata\\roaming\\python\\python311\\site-packages (from faker) (2.8.2)\n",
      "Requirement already satisfied: six>=1.5 in c:\\users\\user\\appdata\\roaming\\python\\python311\\site-packages (from python-dateutil>=2.4->faker) (1.16.0)\n",
      "Downloading Faker-19.13.0-py3-none-any.whl (1.7 MB)\n",
      "   ---------------------------------------- 0.0/1.7 MB ? eta -:--:--\n",
      "   ---------------------------------------- 0.0/1.7 MB ? eta -:--:--\n",
      "    --------------------------------------- 0.0/1.7 MB 445.2 kB/s eta 0:00:04\n",
      "   - -------------------------------------- 0.1/1.7 MB 657.6 kB/s eta 0:00:03\n",
      "   ---- ----------------------------------- 0.2/1.7 MB 1.1 MB/s eta 0:00:02\n",
      "   ----- ---------------------------------- 0.3/1.7 MB 1.2 MB/s eta 0:00:02\n",
      "   -------- ------------------------------- 0.4/1.7 MB 1.4 MB/s eta 0:00:01\n",
      "   ----------- ---------------------------- 0.5/1.7 MB 1.7 MB/s eta 0:00:01\n",
      "   -------------- ------------------------- 0.6/1.7 MB 1.8 MB/s eta 0:00:01\n",
      "   ------------------ --------------------- 0.8/1.7 MB 2.1 MB/s eta 0:00:01\n",
      "   ----------------------- ---------------- 1.0/1.7 MB 2.3 MB/s eta 0:00:01\n",
      "   --------------------------- ------------ 1.2/1.7 MB 2.5 MB/s eta 0:00:01\n",
      "   -------------------------------- ------- 1.4/1.7 MB 2.7 MB/s eta 0:00:01\n",
      "   ------------------------------------ --- 1.6/1.7 MB 2.8 MB/s eta 0:00:01\n",
      "   ---------------------------------------  1.7/1.7 MB 2.8 MB/s eta 0:00:01\n",
      "   ---------------------------------------- 1.7/1.7 MB 2.7 MB/s eta 0:00:00\n",
      "Installing collected packages: faker\n",
      "Successfully installed faker-19.13.0\n",
      "Note: you may need to restart the kernel to use updated packages.\n"
     ]
    }
   ],
   "source": [
    "pip install faker"
   ]
  },
  {
   "cell_type": "code",
   "execution_count": 2,
   "id": "7dd23743",
   "metadata": {},
   "outputs": [
    {
     "name": "stdout",
     "output_type": "stream",
     "text": [
      "Deanna Carter\n",
      "11686 Wolf Mews Apt. 928\n",
      "Stephanieburgh, AK 45215\n",
      "Resource ok finally maybe medical degree rather. That offer outside key especially happen hard.\n",
      "Method professional try mission.\n",
      "penastephen@example.com\n",
      "Montserrat\n",
      "9.4696585 36.443339\n",
      "https://www.bonilla.org/\n"
     ]
    }
   ],
   "source": [
    "from faker import Faker\n",
    "fake = Faker()\n",
    "print(fake.name())\n",
    "print(fake.address())\n",
    "print(fake.text())\n",
    "print(fake.email())\n",
    "print(fake.country())\n",
    "print(fake.latitude(), fake.longitude())\n",
    "print(fake.url())"
   ]
  },
  {
   "cell_type": "code",
   "execution_count": null,
   "id": "694b5d32",
   "metadata": {},
   "outputs": [],
   "source": []
  }
 ],
 "metadata": {
  "kernelspec": {
   "display_name": "Python 3 (ipykernel)",
   "language": "python",
   "name": "python3"
  },
  "language_info": {
   "codemirror_mode": {
    "name": "ipython",
    "version": 3
   },
   "file_extension": ".py",
   "mimetype": "text/x-python",
   "name": "python",
   "nbconvert_exporter": "python",
   "pygments_lexer": "ipython3",
   "version": "3.11.5"
  }
 },
 "nbformat": 4,
 "nbformat_minor": 5
}
