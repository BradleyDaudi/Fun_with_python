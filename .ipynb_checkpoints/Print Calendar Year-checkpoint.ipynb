{
 "cells": [
  {
   "cell_type": "markdown",
   "id": "2af4df8d",
   "metadata": {},
   "source": [
    "### Print Calendar using python"
   ]
  },
  {
   "cell_type": "code",
   "execution_count": 1,
   "id": "6213fc47",
   "metadata": {},
   "outputs": [],
   "source": [
    "from calendar import *"
   ]
  },
  {
   "cell_type": "code",
   "execution_count": 2,
   "id": "b883d4ec",
   "metadata": {},
   "outputs": [
    {
     "name": "stdout",
     "output_type": "stream",
     "text": [
      "Enter Year:2023\n",
      "                                    2023\n",
      "\n",
      "      January                     February                     March\n",
      "Mo Tu We Th Fr Sa Su        Mo Tu We Th Fr Sa Su        Mo Tu We Th Fr Sa Su\n",
      "                   1               1  2  3  4  5               1  2  3  4  5\n",
      " 2  3  4  5  6  7  8         6  7  8  9 10 11 12         6  7  8  9 10 11 12\n",
      " 9 10 11 12 13 14 15        13 14 15 16 17 18 19        13 14 15 16 17 18 19\n",
      "16 17 18 19 20 21 22        20 21 22 23 24 25 26        20 21 22 23 24 25 26\n",
      "23 24 25 26 27 28 29        27 28                       27 28 29 30 31\n",
      "30 31\n",
      "\n",
      "       April                        May                         June\n",
      "Mo Tu We Th Fr Sa Su        Mo Tu We Th Fr Sa Su        Mo Tu We Th Fr Sa Su\n",
      "                1  2         1  2  3  4  5  6  7                  1  2  3  4\n",
      " 3  4  5  6  7  8  9         8  9 10 11 12 13 14         5  6  7  8  9 10 11\n",
      "10 11 12 13 14 15 16        15 16 17 18 19 20 21        12 13 14 15 16 17 18\n",
      "17 18 19 20 21 22 23        22 23 24 25 26 27 28        19 20 21 22 23 24 25\n",
      "24 25 26 27 28 29 30        29 30 31                    26 27 28 29 30\n",
      "\n",
      "        July                       August                    September\n",
      "Mo Tu We Th Fr Sa Su        Mo Tu We Th Fr Sa Su        Mo Tu We Th Fr Sa Su\n",
      "                1  2            1  2  3  4  5  6                     1  2  3\n",
      " 3  4  5  6  7  8  9         7  8  9 10 11 12 13         4  5  6  7  8  9 10\n",
      "10 11 12 13 14 15 16        14 15 16 17 18 19 20        11 12 13 14 15 16 17\n",
      "17 18 19 20 21 22 23        21 22 23 24 25 26 27        18 19 20 21 22 23 24\n",
      "24 25 26 27 28 29 30        28 29 30 31                 25 26 27 28 29 30\n",
      "31\n",
      "\n",
      "      October                     November                    December\n",
      "Mo Tu We Th Fr Sa Su        Mo Tu We Th Fr Sa Su        Mo Tu We Th Fr Sa Su\n",
      "                   1               1  2  3  4  5                     1  2  3\n",
      " 2  3  4  5  6  7  8         6  7  8  9 10 11 12         4  5  6  7  8  9 10\n",
      " 9 10 11 12 13 14 15        13 14 15 16 17 18 19        11 12 13 14 15 16 17\n",
      "16 17 18 19 20 21 22        20 21 22 23 24 25 26        18 19 20 21 22 23 24\n",
      "23 24 25 26 27 28 29        27 28 29 30                 25 26 27 28 29 30 31\n",
      "30 31\n",
      "\n"
     ]
    }
   ],
   "source": [
    "year = int(input('Enter Year:'))\n",
    "print(calendar(year, 2, 1, 8, 3))\n",
    "\n",
    "#2 = 2 characters for days (Mo, Tu, etc)\n",
    "#1 = 1 line(row) for each week\n",
    "#8 = 8 rows for each month\n",
    "#3 = 3 columns for all months of the year"
   ]
  },
  {
   "cell_type": "code",
   "execution_count": null,
   "id": "23c1d8a7",
   "metadata": {},
   "outputs": [],
   "source": []
  }
 ],
 "metadata": {
  "kernelspec": {
   "display_name": "Python 3 (ipykernel)",
   "language": "python",
   "name": "python3"
  },
  "language_info": {
   "codemirror_mode": {
    "name": "ipython",
    "version": 3
   },
   "file_extension": ".py",
   "mimetype": "text/x-python",
   "name": "python",
   "nbconvert_exporter": "python",
   "pygments_lexer": "ipython3",
   "version": "3.11.5"
  }
 },
 "nbformat": 4,
 "nbformat_minor": 5
}
