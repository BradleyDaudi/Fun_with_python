{
 "cells": [
  {
   "cell_type": "code",
   "execution_count": 2,
   "metadata": {},
   "outputs": [],
   "source": [
    "# print colored output in Python\n",
    "from colorama import Fore"
   ]
  },
  {
   "cell_type": "code",
   "execution_count": 11,
   "metadata": {},
   "outputs": [
    {
     "name": "stdout",
     "output_type": "stream",
     "text": [
      "\u001b[30mKENYAN FLAG\n",
      "\u001b[37mKENYA FLAG\n",
      "\u001b[31mKENYA FLAG\n",
      "\u001b[37mKENYA FLAG\n",
      "\u001b[32mKENYA FLAG\n"
     ]
    }
   ],
   "source": [
    "print(Fore.BLACK + \"KENYAN FLAG\")\n",
    "print(Fore.WHITE + \"KENYA FLAG\")\n",
    "print(Fore.RED + \"KENYA FLAG\")\n",
    "print(Fore.WHITE + \"KENYA FLAG\")\n",
    "print(Fore.GREEN + \"KENYA FLAG\")"
   ]
  },
  {
   "cell_type": "markdown",
   "metadata": {},
   "source": []
  }
 ],
 "metadata": {
  "kernelspec": {
   "display_name": "Python 3",
   "language": "python",
   "name": "python3"
  },
  "language_info": {
   "codemirror_mode": {
    "name": "ipython",
    "version": 3
   },
   "file_extension": ".py",
   "mimetype": "text/x-python",
   "name": "python",
   "nbconvert_exporter": "python",
   "pygments_lexer": "ipython3",
   "version": "3.11.1"
  },
  "orig_nbformat": 4
 },
 "nbformat": 4,
 "nbformat_minor": 2
}
